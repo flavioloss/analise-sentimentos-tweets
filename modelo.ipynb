{
 "cells": [
  {
   "cell_type": "code",
   "execution_count": 137,
   "metadata": {},
   "outputs": [],
   "source": [
    "import warnings\n",
    "warnings.simplefilter(\"ignore\")\n",
    "import pandas as pd\n",
    "import numpy as np\n",
    "import matplotlib.pyplot as plt\n",
    "import seaborn as sns\n",
    "%matplotlib inline\n",
    "import nltk\n",
    "import string\n",
    "import re\n",
    "from nltk.tokenize import TweetTokenizer\n",
    "from nltk.corpus import stopwords\n",
    "from sklearn.feature_extraction.text import CountVectorizer, TfidfTransformer\n",
    "from sklearn.naive_bayes import MultinomialNB\n",
    "from sklearn.ensemble import RandomForestClassifier, GradientBoostingClassifier\n",
    "from sklearn.svm import SVC\n",
    "from sklearn.pipeline import Pipeline\n",
    "from sklearn.model_selection import cross_val_score, KFold\n",
    "from sklearn.model_selection import train_test_split\n",
    "from sklearn.metrics import plot_roc_curve\n",
    "from yellowbrick.classifier import confusion_matrix"
   ]
  },
  {
   "cell_type": "code",
   "execution_count": 126,
   "metadata": {},
   "outputs": [],
   "source": [
    "df = pd.read_csv('tweets_processados.csv')\n",
    "df = df.dropna()\n",
    "df = df.drop_duplicates(['Text'])"
   ]
  },
  {
   "cell_type": "markdown",
   "metadata": {},
   "source": [
    "#### Função de limpar os tweets"
   ]
  },
  {
   "cell_type": "code",
   "execution_count": 127,
   "metadata": {},
   "outputs": [],
   "source": [
    "#retirar pontuações e stopwords pois não são relevantes para o modelo\n",
    "def clean_text(text_list):\n",
    "    #recebe uma lista de strings\n",
    "    twitter_punct = '!\"$\\'*+,-./?`{|}~%:'\n",
    "    clean_text_list = []\n",
    "    for text in text_list:\n",
    "        \n",
    "        #pontuações\n",
    "        text_sempont = [char for char in text if char not in twitter_punct]\n",
    "        text_sempont = ''.join(text_sempont)\n",
    "\n",
    "        #remover links\n",
    "        text_semlink = re.sub('https\\S+', '', text_sempont)\n",
    "\n",
    "        #stopwords\n",
    "        text_process = [word for word in text_semlink.split() \n",
    "                        if word.lower() not in stopwords.words('portuguese')]\n",
    "        text_process = ' '.join(text_process)\n",
    "        \n",
    "        clean_text_list.append(text_process)\n",
    "        \n",
    "    #retorna uma lista de strings limpa\n",
    "    return clean_text_list"
   ]
  },
  {
   "cell_type": "markdown",
   "metadata": {},
   "source": [
    "#### Temos os tweets e as classificações processadas e prontas para treino na pipeline"
   ]
  },
  {
   "cell_type": "code",
   "execution_count": 128,
   "metadata": {},
   "outputs": [],
   "source": [
    "tweets = df.Text\n",
    "classes = df.Classificacao"
   ]
  },
  {
   "cell_type": "markdown",
   "metadata": {},
   "source": [
    "#### Criar e fitar os modelos, usando uma Pipeline para tornar o preprocessamento mais rápido"
   ]
  },
  {
   "cell_type": "code",
   "execution_count": 129,
   "metadata": {},
   "outputs": [],
   "source": [
    "#criação da pipeline - Naive Bayes\n",
    "pipeline_nb = Pipeline([\n",
    "    ('vectorizer', CountVectorizer(tokenizer=TweetTokenizer().tokenize)),\n",
    "    ('tf-idf', TfidfTransformer()),\n",
    "    ('Naive Bayes', MultinomialNB())\n",
    "])"
   ]
  },
  {
   "cell_type": "code",
   "execution_count": 130,
   "metadata": {},
   "outputs": [],
   "source": [
    "#criação da pipeline - Random Forest\n",
    "pipeline_rfc = Pipeline([\n",
    "    ('vectorizer', CountVectorizer(tokenizer=TweetTokenizer().tokenize)),\n",
    "    ('tf-idf', TfidfTransformer()),\n",
    "    ('Random Forest', RandomForestClassifier())\n",
    "])"
   ]
  },
  {
   "cell_type": "code",
   "execution_count": 131,
   "metadata": {},
   "outputs": [],
   "source": [
    "#criação da pipeline - SVM\n",
    "pipeline_svm = Pipeline([\n",
    "    ('vectorizer', CountVectorizer(tokenizer=TweetTokenizer().tokenize)),\n",
    "    ('tf-idf', TfidfTransformer()),\n",
    "    ('SVM', SVC())\n",
    "])"
   ]
  },
  {
   "cell_type": "markdown",
   "metadata": {},
   "source": [
    "#### Avalianção do modelo"
   ]
  },
  {
   "cell_type": "code",
   "execution_count": 132,
   "metadata": {},
   "outputs": [],
   "source": [
    "#Create the train and test data\n",
    "X_train, X_test, y_train, y_test = train_test_split(tweets, classes, test_size=0.2)"
   ]
  },
  {
   "cell_type": "code",
   "execution_count": 133,
   "metadata": {},
   "outputs": [
    {
     "name": "stdout",
     "output_type": "stream",
     "text": [
      "Score Naive Bayes:  76.48 % \n",
      "Score RandomForest:  74.11 % \n",
      "Score SVM:  77.34 %\n"
     ]
    }
   ],
   "source": [
    "def validacao(model, X, y):\n",
    "    kfold = KFold(n_splits=5, shuffle=True)\n",
    "    score = cross_val_score(model, X, y, cv=kfold)\n",
    "    return round(np.mean(score), 4)\n",
    "\n",
    "print('Score Naive Bayes: ', validacao(pipeline_nb, X_train, y_train) * 100, '%',\n",
    "      '\\nScore RandomForest: ', validacao(pipeline_rfc, X_train, y_train) * 100, '%',\n",
    "      '\\nScore SVM: ', validacao(pipeline_svm, X_train, y_train) * 100, '%')"
   ]
  },
  {
   "cell_type": "code",
   "execution_count": 134,
   "metadata": {},
   "outputs": [
    {
     "data": {
      "text/plain": [
       "array(['Positivo', 'Positivo', 'Negativo', 'Negativo', 'Positivo',\n",
       "       'Negativo', 'Positivo', 'Positivo', 'Positivo', 'Positivo'],\n",
       "      dtype='<U8')"
      ]
     },
     "execution_count": 134,
     "metadata": {},
     "output_type": "execute_result"
    }
   ],
   "source": [
    "pipeline_nb.fit(X_train, y_train)\n",
    "preds = pipeline_nb.predict(X_test)\n",
    "preds[:10]"
   ]
  },
  {
   "cell_type": "markdown",
   "metadata": {},
   "source": [
    "#### Visualização dos acertos por categoria"
   ]
  },
  {
   "cell_type": "code",
   "execution_count": 135,
   "metadata": {},
   "outputs": [
    {
     "data": {
      "image/png": "[encoded data removed]",
      "text/plain": [
       "<Figure size 720x720 with 1 Axes>"
      ]
     },
     "metadata": {
      "needs_background": "light"
     },
     "output_type": "display_data"
    },
    {
     "data": {
      "text/plain": [
       "<Figure size 432x288 with 0 Axes>"
      ]
     },
     "metadata": {},
     "output_type": "display_data"
    }
   ],
   "source": [
    "#instantiate the visualizer with the classification model\n",
    "plt.figure(figsize=(10, 10))\n",
    "confusion_matrix(pipeline_nb,\n",
    "                 X_train, y_train, X_test, y_test, \n",
    "                 classes=['Positivo', 'Negativo'],)\n",
    "\n",
    "plt.tight_layout()"
   ]
  },
  {
   "cell_type": "markdown",
   "metadata": {},
   "source": [
    "#### Curva ROC"
   ]
  },
  {
   "cell_type": "code",
   "execution_count": 138,
   "metadata": {},
   "outputs": [
    {
     "data": {
      "text/plain": [
       "<sklearn.metrics._plot.roc_curve.RocCurveDisplay at 0x1ac17606708>"
      ]
     },
     "execution_count": 138,
     "metadata": {},
     "output_type": "execute_result"
    },
    {
     "data": {
      "image/png": "[encoded data removed]",
      "text/plain": [
       "<Figure size 432x288 with 1 Axes>"
      ]
     },
     "metadata": {
      "needs_background": "light"
     },
     "output_type": "display_data"
    }
   ],
   "source": [
    "plot_roc_curve(pipeline_nb, X_test, y_test)"
   ]
  },
  {
   "cell_type": "code",
   "execution_count": 136,
   "metadata": {},
   "outputs": [
    {
     "name": "stdout",
     "output_type": "stream",
     "text": [
      "A nova cédula deverá entrar em circulação a partir do final de agosto. \n",
      "Predição:  Positivo \n",
      "\n",
      "Não consigo ver nem a de 100, imagina quando vou ter uma de 200..…..mas gostei! =) \n",
      "Predição:  Positivo \n",
      "\n",
      "É bem ruim, demostra a desvalorização do real. \n",
      "Predição:  Positivo \n",
      "\n",
      "Vergonha. Decisao Imbecil em Plena Pandemia. \n",
      "Predição:  Negativo \n",
      "\n",
      "O cachorro-vinagre seria mais fofinho, imagina \n",
      "Predição:  Positivo \n",
      "\n"
     ]
    }
   ],
   "source": [
    "#teste da pipeline com um exemplo\n",
    "tweets_teste = ['A nova cédula deverá entrar em circulação a partir do final de agosto.',\n",
    "                'Não consigo ver nem a de 100, imagina quando vou ter uma de 200..…..mas gostei! =)',\n",
    "                'É bem ruim, demostra a desvalorização do real.',\n",
    "                'Vergonha. Decisao Imbecil em Plena Pandemia.',\n",
    "                'O cachorro-vinagre seria mais fofinho, imagina']\n",
    "\n",
    "tweets_clean = clean_text(tweets_teste)\n",
    "\n",
    "predictions = pipeline_nb.predict(tweets_clean)\n",
    "\n",
    "for t, p in zip(tweets_teste, predictions):\n",
    "    print(t, '\\nPredição: ', p, '\\n')"
   ]
  },
  {
   "cell_type": "markdown",
   "metadata": {},
   "source": [
    "#### Possiveis problemas no modelo:\n",
    "    1. alguma pontuação pode estar atrapalhando o modelo, não foram retiradas todas pois podem existir emojis nos tweets.\n",
    "    2. poucos dados, podem ser insuficientes para o modelo.\n",
    "    3. modelo prevendo muitos falsos negativos, que deveriam ser positivos.\n",
    "    4. tfidf dando maior importancia para palavras que representam locais\n",
    "   \n",
    "#### Possiveis soluções:\n",
    "    1. utilizar tecnicas como stemming e lemmatization\n",
    "    2. procurar especificamente por emojis no preprocessamento\n",
    "    3. obter dados em maior quantidade e diversidade\n",
    "    4. treinar um modelo mais robusto, como por exemplo uma rede neural"
   ]
  }
 ],
 "metadata": {
  "kernelspec": {
   "display_name": "Python 3",
   "language": "python",
   "name": "python3"
  },
  "language_info": {
   "codemirror_mode": {
    "name": "ipython",
    "version": 3
   },
   "file_extension": ".py",
   "mimetype": "text/x-python",
   "name": "python",
   "nbconvert_exporter": "python",
   "pygments_lexer": "ipython3",
   "version": "3.7.6"
  }
 },
 "nbformat": 4,
 "nbformat_minor": 4
}
