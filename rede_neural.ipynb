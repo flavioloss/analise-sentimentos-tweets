{
 "cells": [
  {
   "cell_type": "code",
   "execution_count": 2,
   "metadata": {},
   "outputs": [],
   "source": [
    "import warnings\n",
    "warnings.simplefilter(\"ignore\")\n",
    "import pandas as pd\n",
    "import numpy as np\n",
    "import tensorflow as tf\n",
    "from tensorflow.keras.preprocessing.text import Tokenizer\n",
    "from tensorflow.keras.preprocessing.sequence import pad_sequences"
   ]
  },
  {
   "cell_type": "code",
   "execution_count": 3,
   "metadata": {},
   "outputs": [],
   "source": [
    "df = pd.read_csv('tweets_processados.csv')\n",
    "df = df.dropna()"
   ]
  },
  {
   "cell_type": "code",
   "execution_count": 4,
   "metadata": {},
   "outputs": [],
   "source": [
    "tweets = df.Text.values\n",
    "classes = np.array(df['Classificacao'].map({'Positivo': 1, 'Negativo': 0}))"
   ]
  },
  {
   "cell_type": "code",
   "execution_count": 5,
   "metadata": {},
   "outputs": [],
   "source": [
    "vocab_size = 1000\n",
    "max_len = 16\n",
    "emb_dim = 16"
   ]
  },
  {
   "cell_type": "code",
   "execution_count": 6,
   "metadata": {},
   "outputs": [],
   "source": [
    "tokenizer = Tokenizer(num_words=vocab_size, oov_token='<OOV>')"
   ]
  },
  {
   "cell_type": "code",
   "execution_count": 7,
   "metadata": {},
   "outputs": [],
   "source": [
    "tokenizer.fit_on_texts(tweets)\n",
    "word_index = tokenizer.word_index"
   ]
  },
  {
   "cell_type": "code",
   "execution_count": 8,
   "metadata": {},
   "outputs": [
    {
     "name": "stdout",
     "output_type": "stream",
     "text": [
      "Padded Sequence:  (5754, 16)\n"
     ]
    }
   ],
   "source": [
    "sequences = tokenizer.texts_to_sequences(tweets)\n",
    "padded = pad_sequences(sequences, maxlen=max_len, truncating='post')\n",
    "print('Padded Sequence: ', padded.shape)"
   ]
  },
  {
   "cell_type": "code",
   "execution_count": 9,
   "metadata": {},
   "outputs": [
    {
     "name": "stdout",
     "output_type": "stream",
     "text": [
      "Model: \"sequential\"\n",
      "_________________________________________________________________\n",
      "Layer (type)                 Output Shape              Param #   \n",
      "=================================================================\n",
      "embedding (Embedding)        (None, 16, 16)            16000     \n",
      "_________________________________________________________________\n",
      "global_average_pooling1d (Gl (None, 16)                0         \n",
      "_________________________________________________________________\n",
      "dense (Dense)                (None, 6)                 102       \n",
      "_________________________________________________________________\n",
      "dense_1 (Dense)              (None, 1)                 7         \n",
      "=================================================================\n",
      "Total params: 16,109\n",
      "Trainable params: 16,109\n",
      "Non-trainable params: 0\n",
      "_________________________________________________________________\n"
     ]
    }
   ],
   "source": [
    "model = tf.keras.models.Sequential([\n",
    "    tf.keras.layers.Embedding(vocab_size, emb_dim, input_length=max_len),\n",
    "    tf.keras.layers.GlobalAveragePooling1D(),\n",
    "    tf.keras.layers.Dense(6, activation='relu'),\n",
    "    tf.keras.layers.Dense(1, activation='sigmoid')\n",
    "])\n",
    "\n",
    "model.summary()"
   ]
  },
  {
   "cell_type": "code",
   "execution_count": 81,
   "metadata": {},
   "outputs": [
    {
     "name": "stdout",
     "output_type": "stream",
     "text": [
      "Train on 3855 samples, validate on 1899 samples\n",
      "Epoch 1/10\n",
      "3855/3855 [==============================] - 2s 451us/sample - loss: 0.6833 - accuracy: 0.6228 - val_loss: 0.6203 - val_accuracy: 0.9895\n",
      "Epoch 2/10\n",
      "3855/3855 [==============================] - 0s 91us/sample - loss: 0.6230 - accuracy: 0.6960 - val_loss: 0.5159 - val_accuracy: 0.9679\n",
      "Epoch 3/10\n",
      "3855/3855 [==============================] - 0s 92us/sample - loss: 0.5276 - accuracy: 0.7403 - val_loss: 0.4716 - val_accuracy: 0.9068\n",
      "Epoch 4/10\n",
      "3855/3855 [==============================] - 0s 90us/sample - loss: 0.4611 - accuracy: 0.7639 - val_loss: 0.4000 - val_accuracy: 0.9147\n",
      "Epoch 5/10\n",
      "3855/3855 [==============================] - 0s 91us/sample - loss: 0.4255 - accuracy: 0.7707 - val_loss: 0.4665 - val_accuracy: 0.8557\n",
      "Epoch 6/10\n",
      "3855/3855 [==============================] - 0s 92us/sample - loss: 0.4058 - accuracy: 0.7808 - val_loss: 0.4143 - val_accuracy: 0.8678\n",
      "Epoch 7/10\n",
      "3855/3855 [==============================] - 0s 93us/sample - loss: 0.3930 - accuracy: 0.7909 - val_loss: 0.4493 - val_accuracy: 0.8336\n",
      "Epoch 8/10\n",
      "3855/3855 [==============================] - 0s 97us/sample - loss: 0.3844 - accuracy: 0.7909 - val_loss: 0.4517 - val_accuracy: 0.8115\n",
      "Epoch 9/10\n",
      "3855/3855 [==============================] - 0s 90us/sample - loss: 0.3776 - accuracy: 0.8042 - val_loss: 0.4901 - val_accuracy: 0.7567\n",
      "Epoch 10/10\n",
      "3855/3855 [==============================] - 0s 105us/sample - loss: 0.3723 - accuracy: 0.8049 - val_loss: 0.4081 - val_accuracy: 0.8257\n"
     ]
    }
   ],
   "source": [
    "model.compile(optimizer='adam', loss='binary_crossentropy', metrics=['accuracy'])\n",
    "history = model.fit(padded, classes, epochs=10, validation_split=0.33)"
   ]
  },
  {
   "cell_type": "code",
   "execution_count": 75,
   "metadata": {},
   "outputs": [
    {
     "data": {
      "image/png": "[encoded data removed]",
      "text/plain": [
       "<Figure size 432x288 with 1 Axes>"
      ]
     },
     "metadata": {
      "needs_background": "light"
     },
     "output_type": "display_data"
    },
    {
     "data": {
      "image/png": "[encoded data removed]",
      "text/plain": [
       "<Figure size 432x288 with 1 Axes>"
      ]
     },
     "metadata": {
      "needs_background": "light"
     },
     "output_type": "display_data"
    }
   ],
   "source": [
    "import matplotlib.pyplot as plt\n",
    "\n",
    "\n",
    "def plot_graphs(history, string):\n",
    "  plt.plot(history.history[string])\n",
    "  plt.plot(history.history['val_'+string])\n",
    "  plt.xlabel(\"Epochs\")\n",
    "  plt.ylabel(string)\n",
    "  plt.legend([string, 'val_'+string])\n",
    "  plt.show()\n",
    "  \n",
    "plot_graphs(history, \"accuracy\")\n",
    "plot_graphs(history, \"loss\")"
   ]
  },
  {
   "cell_type": "code",
   "execution_count": 64,
   "metadata": {},
   "outputs": [
    {
     "name": "stdout",
     "output_type": "stream",
     "text": [
      "? ? ? ? ? ? ? ? ? ? ? ? ? ? ? ? ? ? ? ? ? ? ? ? ? ? ? ? ? ? ? ? ? ? ? ? ? ? ? ? ? ? ? ? ? ? ? ? ? ? ? ? ? ? ? ? ? ? ? ? ? ? ? ? ? ? ? ? ? ? ? ? ? ? ? ? ? ? ? ? ? ? ? ? ? ? ? ? ? ? ? ? ? ? ? ? ? ? ? ? ? ? ? ? ? ? ? ? ? ? ? ? ? ? ? ? ? ? ? ���\n",
      "���\n"
     ]
    }
   ],
   "source": [
    "reverse_word_index = dict([(value, key) for (key, value) in word_index.items()])\n",
    "\n",
    "def decode_review(text):\n",
    "    return ' '.join([reverse_word_index.get(i, '?') for i in text])\n",
    "\n",
    "print(decode_review(padded[3]))\n",
    "print(tweets[3])"
   ]
  },
  {
   "cell_type": "code",
   "execution_count": 65,
   "metadata": {},
   "outputs": [
    {
     "name": "stdout",
     "output_type": "stream",
     "text": [
      "(5000, 16)\n"
     ]
    }
   ],
   "source": [
    "e = model.layers[0]\n",
    "weights = e.get_weights()[0]\n",
    "print(weights.shape) # shape: (vocab_size, embedding_dim)"
   ]
  },
  {
   "cell_type": "code",
   "execution_count": 66,
   "metadata": {},
   "outputs": [],
   "source": [
    "import io\n",
    "\n",
    "out_v = io.open('vecs.tsv', 'w', encoding='utf-8')\n",
    "out_m = io.open('meta.tsv', 'w', encoding='utf-8')\n",
    "for word_num in range(1, 5000):\n",
    "  word = reverse_word_index[word_num]\n",
    "  embeddings = weights[word_num]\n",
    "  out_m.write(word + \"\\n\")\n",
    "  out_v.write('\\t'.join([str(x) for x in embeddings]) + \"\\n\")\n",
    "out_v.close()\n",
    "out_m.close()"
   ]
  },
  {
   "cell_type": "code",
   "execution_count": 67,
   "metadata": {},
   "outputs": [
    {
     "name": "stdout",
     "output_type": "stream",
     "text": [
      "Padded Sequence:  (5, 120)\n"
     ]
    }
   ],
   "source": [
    "tweets_teste = np.array(['A nova cédula deverá entrar em circulação a partir do final de agosto.',\n",
    "                'Não consigo ver nem a de 100, imagina quando vou ter uma de 200..…..mas gostei! =)',\n",
    "                'É bem ruim, demostra a desvalorização do real.',\n",
    "                'Vergonha. Decisao Imbecil em Plena Pandemia.',\n",
    "                'O cachorro-vinagre seria mais fofinho, imagina'])\n",
    "\n",
    "test_seq = tokenizer.texts_to_sequences(tweets_teste)\n",
    "test_padded = pad_sequences(test_seq, maxlen=max_len, truncating='post')\n",
    "print('Padded Sequence: ', test_padded.shape)"
   ]
  },
  {
   "cell_type": "code",
   "execution_count": 68,
   "metadata": {},
   "outputs": [
    {
     "name": "stdout",
     "output_type": "stream",
     "text": [
      "A nova cédula deverá entrar em circulação a partir do final de agosto. \n",
      "Predição:  Positivo \n",
      "\n",
      "Não consigo ver nem a de 100, imagina quando vou ter uma de 200..…..mas gostei! =) \n",
      "Predição:  Positivo \n",
      "\n",
      "É bem ruim, demostra a desvalorização do real. \n",
      "Predição:  Positivo \n",
      "\n",
      "Vergonha. Decisao Imbecil em Plena Pandemia. \n",
      "Predição:  Positivo \n",
      "\n",
      "O cachorro-vinagre seria mais fofinho, imagina \n",
      "Predição:  Positivo \n",
      "\n"
     ]
    }
   ],
   "source": [
    "preds = model.predict(test_padded)\n",
    "\n",
    "predictions = [\"Positivo\" if i>=0.5 else \"Negativo\"  for i in preds]\n",
    "\n",
    "for t, p in zip(tweets_teste, predictions):\n",
    "    print(t, '\\nPredição: ', p, '\\n')"
   ]
  },
  {
   "cell_type": "code",
   "execution_count": null,
   "metadata": {},
   "outputs": [],
   "source": []
  }
 ],
 "metadata": {
  "kernelspec": {
   "display_name": "Python 3",
   "language": "python",
   "name": "python3"
  },
  "language_info": {
   "codemirror_mode": {
    "name": "ipython",
    "version": 3
   },
   "file_extension": ".py",
   "mimetype": "text/x-python",
   "name": "python",
   "nbconvert_exporter": "python",
   "pygments_lexer": "ipython3",
   "version": "3.7.6"
  }
 },
 "nbformat": 4,
 "nbformat_minor": 4
}
